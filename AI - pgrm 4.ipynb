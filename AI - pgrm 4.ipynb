{
 "cells": [
  {
   "cell_type": "code",
   "execution_count": 6,
   "id": "f3bf78b4-0b47-4f12-a387-030a3d793bf4",
   "metadata": {},
   "outputs": [
    {
     "ename": "SyntaxError",
     "evalue": "invalid syntax. Perhaps you forgot a comma? (314904130.py, line 20)",
     "output_type": "error",
     "traceback": [
      "\u001b[1;36m  Cell \u001b[1;32mIn[6], line 20\u001b[1;36m\u001b[0m\n\u001b[1;33m    np.all(board == player, axis=0)\u001b[0m\n\u001b[1;37m    ^\u001b[0m\n\u001b[1;31mSyntaxError\u001b[0m\u001b[1;31m:\u001b[0m invalid syntax. Perhaps you forgot a comma?\n"
     ]
    }
   ],
   "source": [
    "import numpy as np\n",
    "import random\n",
    "from time import sleep\n",
    "\n",
    "def create_board():\n",
    "    return np.zeros((3, 3), dtype=int)\n",
    "\n",
    "def possibilities(board):\n",
    "    return [(i, j) for i in range(3) for j in range(3) if board[i, j] == 0]\n",
    "\n",
    "def random_place(board, player):\n",
    "    selection = possibilities(board)\n",
    "    if selection:\n",
    "        current_loc = random.choice(selection)\n",
    "        board[current_loc] = player\n",
    "    return board\n",
    "\n",
    "def check_win(board, player):\n",
    "    return any(\n",
    "        np.all(board == player, axis=0) \n",
    "        np.all(board == player, axis=1) \n",
    "        np.all(np.diag(board) == player)\n",
    "        np.all(np.diag(np.fliplr(board)) == player)  \n",
    "    )\n",
    "\n",
    "def evaluate(board):\n",
    "    for player in [1, 2]:\n",
    "        if check_win(board, player):\n",
    "            return player\n",
    "    return -1 if np.all(board != 0) else 0\n",
    "\n",
    "def play_game():\n",
    "    board, winner, counter = create_board(), 0, 1\n",
    "    print(board)\n",
    "    sleep(2)\n",
    "\n",
    "    while winner == 0:\n",
    "        for player in [1, 2]:\n",
    "            board = random_place(board, player)\n",
    "            print(f\"Board after {counter} move\")\n",
    "            print(board)\n",
    "            sleep(2)\n",
    "            counter += 1\n",
    "            winner = evaluate(board)\n",
    "            if winner != 0:\n",
    "                break\n",
    "    \n",
    "    return winner\n",
    "\n",
    "# Driver Code\n",
    "print(\"Winner is:\", play_game())\n"
   ]
  },
  {
   "cell_type": "code",
   "execution_count": null,
   "id": "2f1bb4c5-72e3-4ae1-8341-061635051c07",
   "metadata": {},
   "outputs": [],
   "source": []
  }
 ],
 "metadata": {
  "kernelspec": {
   "display_name": "Python 3 (ipykernel)",
   "language": "python",
   "name": "python3"
  },
  "language_info": {
   "codemirror_mode": {
    "name": "ipython",
    "version": 3
   },
   "file_extension": ".py",
   "mimetype": "text/x-python",
   "name": "python",
   "nbconvert_exporter": "python",
   "pygments_lexer": "ipython3",
   "version": "3.12.7"
  }
 },
 "nbformat": 4,
 "nbformat_minor": 5
}
